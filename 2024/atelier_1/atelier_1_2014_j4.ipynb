{
 "cells": [
  {
   "cell_type": "markdown",
   "id": "3353a8be",
   "metadata": {
    "slideshow": {
     "slide_type": "slide"
    }
   },
   "source": [
    "# Atelier 1\n",
    "\n",
    "### Manipulations de tableaux et boucles imbriquées"
   ]
  },
  {
   "cell_type": "markdown",
   "id": "9c024e7e",
   "metadata": {
    "slideshow": {
     "slide_type": "slide"
    }
   },
   "source": [
    "### Manipulations de tableaux et boucles imbriquées\n",
    "\n",
    "Aujourd'hui nous travaillerons sur le problème:\n",
    "\n",
    "#### 2014 J4 du CCI: Party Invitation"
   ]
  },
  {
   "cell_type": "markdown",
   "id": "02121af2",
   "metadata": {
    "slideshow": {
     "slide_type": "slide"
    }
   },
   "source": [
    "### Manipulations de tableaux et boucles imbriquées\n",
    "Commençons avec un problème différent."
   ]
  },
  {
   "cell_type": "markdown",
   "id": "b9811a71",
   "metadata": {
    "slideshow": {
     "slide_type": "fragment"
    }
   },
   "source": [
    "On commence avec un tableau $[1,2,3,...,n]$"
   ]
  },
  {
   "cell_type": "markdown",
   "id": "0b7b2410",
   "metadata": {
    "slideshow": {
     "slide_type": "fragment"
    }
   },
   "source": [
    "On modifie ce tableau $n$ fois, à chaque ronde on reçoit un nombre $r_i$ pour dicter comment on modifie le tableau. "
   ]
  },
  {
   "cell_type": "markdown",
   "id": "d0b25566",
   "metadata": {
    "slideshow": {
     "slide_type": "fragment"
    }
   },
   "source": [
    "On multiplie par $r_i$ à toutes les positions impaires du tableau et on additionne $r_i$ à toutes les positions paires du tableau."
   ]
  },
  {
   "cell_type": "markdown",
   "id": "8c6f591a",
   "metadata": {
    "slideshow": {
     "slide_type": "fragment"
    }
   },
   "source": [
    "**But:** Imprimez chaque nombre du tableau final sur une ligne individuelle."
   ]
  },
  {
   "cell_type": "markdown",
   "id": "a4f04502",
   "metadata": {
    "slideshow": {
     "slide_type": "subslide"
    }
   },
   "source": [
    "#### Exemple\n",
    "\n",
    "#### Entrées\n",
    "$n=4$\\\n",
    "$r_1=2$\\\n",
    "$r_2=1$\\\n",
    "$r_3=1$\\\n",
    "$r_4=3$"
   ]
  },
  {
   "cell_type": "markdown",
   "id": "1bcb995b",
   "metadata": {
    "slideshow": {
     "slide_type": "subslide"
    }
   },
   "source": [
    "#### Solution\n",
    "* Position impaire: multiplication par $r_i$.\n",
    "* Position paire: addition de $r_i$.\n",
    "\n",
    "$r_0: [1,2,3,4]\\quad \\quad \\quad r_1=2$"
   ]
  },
  {
   "cell_type": "markdown",
   "id": "3264176e",
   "metadata": {
    "slideshow": {
     "slide_type": "fragment"
    }
   },
   "source": [
    "Après $r_1: [2,4,6,6]\\quad \\quad \\quad r_2=1$"
   ]
  },
  {
   "cell_type": "markdown",
   "id": "3424ba61",
   "metadata": {
    "slideshow": {
     "slide_type": "fragment"
    }
   },
   "source": [
    "Après $r_2: [2,5,6,7] \\quad\\quad\\quad r_3=1$"
   ]
  },
  {
   "cell_type": "markdown",
   "id": "1fe55316",
   "metadata": {
    "slideshow": {
     "slide_type": "fragment"
    }
   },
   "source": [
    "Après $r_3: [2,6,6,8]\\quad \\quad \\quad r_4=3$"
   ]
  },
  {
   "cell_type": "markdown",
   "id": "910418c1",
   "metadata": {
    "slideshow": {
     "slide_type": "fragment"
    }
   },
   "source": [
    "Après $r_4: [6,9,18,11]$"
   ]
  },
  {
   "cell_type": "markdown",
   "id": "1b15fb9c",
   "metadata": {
    "slideshow": {
     "slide_type": "slide"
    }
   },
   "source": [
    "Position impaire: $val\\cdot r_i$,   $\\quad \\quad$   Position paire: $val+r_i$"
   ]
  },
  {
   "cell_type": "code",
   "execution_count": 2,
   "id": "8fe55d46",
   "metadata": {
    "slideshow": {
     "slide_type": "fragment"
    }
   },
   "outputs": [
    {
     "name": "stdout",
     "output_type": "stream",
     "text": [
      "\n"
     ]
    },
    {
     "ename": "ValueError",
     "evalue": "invalid literal for int() with base 10: ''",
     "output_type": "error",
     "traceback": [
      "\u001b[1;31m---------------------------------------------------------------------------\u001b[0m",
      "\u001b[1;31mValueError\u001b[0m                                Traceback (most recent call last)",
      "Cell \u001b[1;32mIn[2], line 2\u001b[0m\n\u001b[0;32m      1\u001b[0m \u001b[38;5;66;03m# On code\u001b[39;00m\n\u001b[1;32m----> 2\u001b[0m n \u001b[38;5;241m=\u001b[39m \u001b[38;5;28mint\u001b[39m(\u001b[38;5;28minput\u001b[39m())\n\u001b[0;32m      3\u001b[0m tableau \u001b[38;5;241m=\u001b[39m \u001b[38;5;28mlist\u001b[39m(\u001b[38;5;28mrange\u001b[39m(\u001b[38;5;241m1\u001b[39m,n\u001b[38;5;241m+\u001b[39m\u001b[38;5;241m1\u001b[39m))\n\u001b[0;32m      5\u001b[0m \u001b[38;5;66;03m# pour chaque ronde\u001b[39;00m\n",
      "\u001b[1;31mValueError\u001b[0m: invalid literal for int() with base 10: ''"
     ]
    }
   ],
   "source": [
    "# On code\n",
    "n = int(input())\n",
    "tableau = list(range(1,n+1))\n",
    "\n",
    "# pour chaque ronde\n",
    "for i in range(n):\n",
    "    nouveau_tableau = []\n",
    "    r_i = int(input())\n",
    "    # modifier toutes les val du tableau\n",
    "    for j, val in enumerate(tableau):\n",
    "        if (j+1) % 2 == 1: #en position impaire\n",
    "            nouveau_tableau.append(val*r_i)\n",
    "        else: #en position paire\n",
    "            nouveau_tableau.append(val+r_i)\n",
    "    tableau = nouveau_tableau\n",
    "    \n",
    "print(tableau)"
   ]
  },
  {
   "cell_type": "markdown",
   "id": "17e25ddb",
   "metadata": {
    "slideshow": {
     "slide_type": "slide"
    }
   },
   "source": [
    "### 2014 J4\n",
    "\n",
    "#### Données d'entrée\n",
    "$n$: longueur du tableau\\\n",
    "$k$: nombre de rondes\\\n",
    "$r_i$: On élimine les nombres du tableaux qui sont rendus à des positions qui sont multiples de $r_i$"
   ]
  },
  {
   "cell_type": "markdown",
   "id": "c1cbb394",
   "metadata": {
    "slideshow": {
     "slide_type": "fragment"
    }
   },
   "source": [
    "#### Exemple\n",
    "**Entrées:** \\\n",
    "$10$\\\n",
    "$2$\\\n",
    "$2$\\\n",
    "$3$"
   ]
  },
  {
   "cell_type": "markdown",
   "id": "7c357957",
   "metadata": {
    "slideshow": {
     "slide_type": "subslide"
    }
   },
   "source": [
    "##### Solution\n",
    "On enlève les nombres en positions multiples de $r_i$ à a chaque ronde.\n",
    "\n",
    "Après $r_0: [1,2,3,4,5,6,7,8,9,10]\\quad \\quad \\quad r_1=2$"
   ]
  },
  {
   "cell_type": "markdown",
   "id": "ad40c6ff",
   "metadata": {
    "slideshow": {
     "slide_type": "fragment"
    }
   },
   "source": [
    "Après $r_1: [1,3,5,7,9]\\quad \\quad \\quad r_2=3$"
   ]
  },
  {
   "cell_type": "markdown",
   "id": "686f65cb",
   "metadata": {
    "slideshow": {
     "slide_type": "fragment"
    }
   },
   "source": [
    "Après $r_2: [1,3,7,9]$"
   ]
  },
  {
   "cell_type": "code",
   "execution_count": null,
   "id": "7e99dfd3",
   "metadata": {
    "slideshow": {
     "slide_type": "slide"
    }
   },
   "outputs": [],
   "source": [
    "# Code créer plus tôt (à titre de référence)\n",
    "n = int(input())\n",
    "tableau = range(1,n+1)\n",
    "\n",
    "# à chaque ronde:\n",
    "for i in range(1,n+1):\n",
    "    r_i = int(input())\n",
    "\n",
    "    # Faire les modifs pour une ronde:\n",
    "    tableau_temporaire = []\n",
    "    for j, valeur in enumerate(tableau):\n",
    "        # position impaire\n",
    "        if (j+1) % 2 == 1: \n",
    "            tableau_temporaire.append(valeur*r_i)\n",
    "        # position paire\n",
    "        else:\n",
    "            tableau_temporaire.append(valeur+r_i)\n",
    "    tableau = tableau_temporaire\n",
    "    \n",
    "for i in tableau:\n",
    "    print(i)"
   ]
  }
 ],
 "metadata": {
  "celltoolbar": "Slideshow",
  "kernelspec": {
   "display_name": "Python 3 (ipykernel)",
   "language": "python",
   "name": "python3"
  },
  "language_info": {
   "codemirror_mode": {
    "name": "ipython",
    "version": 3
   },
   "file_extension": ".py",
   "mimetype": "text/x-python",
   "name": "python",
   "nbconvert_exporter": "python",
   "pygments_lexer": "ipython3",
   "version": "3.11.7"
  }
 },
 "nbformat": 4,
 "nbformat_minor": 5
}
