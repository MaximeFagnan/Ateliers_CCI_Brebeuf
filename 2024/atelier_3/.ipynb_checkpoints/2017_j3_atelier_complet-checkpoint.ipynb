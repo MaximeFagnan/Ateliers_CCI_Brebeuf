{
 "cells": [
  {
   "cell_type": "markdown",
   "id": "307568ff",
   "metadata": {
    "slideshow": {
     "slide_type": "slide"
    }
   },
   "source": [
    "# Réordonner les Mesures de Marée\n",
    "## Atelier sur le tri en Python"
   ]
  },
  {
   "cell_type": "markdown",
   "id": "809c0319",
   "metadata": {
    "slideshow": {
     "slide_type": "subslide"
    }
   },
   "source": [
    "## Énoncé du Problème\n",
    "- Denis Codeur campe à la Baie de Fundy, pour mesurer les marées mais a mélangé tout ses données!\n",
    "- Vous devez reconstruire l'ordre des données en sachant que:\n",
    "    - Les données alternes et commencent avec une mesure de marée basse\n",
    "    - Marée haute augmente, marée basse diminue\n",
    "    \n",
    "**Exemple de données d'entrée:** \\\n",
    "`10 50 40 7 3 110 90 2`\n",
    "\n",
    "**Exemple de données de sorties:** \\\n",
    "`10 40 7 50 3 90 2 110`"
   ]
  },
  {
   "cell_type": "markdown",
   "id": "48302b03",
   "metadata": {
    "slideshow": {
     "slide_type": "slide"
    }
   },
   "source": [
    "## Stratégie pour Organiser les Données\n",
    "1. Séparer les mesures : `marée_basse` et `marée_haute`\n",
    "2. Trier `marée_haute` en ordre croissant\n",
    "3. Trier `marée_basse` en ordre décroissant\n"
   ]
  },
  {
   "cell_type": "markdown",
   "id": "ebfa2857",
   "metadata": {
    "slideshow": {
     "slide_type": "fragment"
    }
   },
   "source": [
    "## Comment trier et inverser des listes en Python\n",
    "\n",
    "**Pour trier une liste** \\\n",
    "    `ma_liste.sort()`\n",
    "\n",
    "**Pour inverser une liste** \\\n",
    "    `ma_liste.reverse()`"
   ]
  },
  {
   "cell_type": "code",
   "execution_count": 7,
   "id": "62155035",
   "metadata": {
    "slideshow": {
     "slide_type": "subslide"
    }
   },
   "outputs": [
    {
     "name": "stdout",
     "output_type": "stream",
     "text": [
      "Mesures de marée basse : [10, 7, 3, 2]\n",
      "Mesures de marée haute : [40, 50, 90, 110]\n"
     ]
    }
   ],
   "source": [
    "# Exemple d'entrée\n",
    "n = 8\n",
    "mesures = [10, 50, 40, 7, 3, 110,  90, 2]\n",
    "mesures_triees = mesures.sort()\n",
    "\n",
    "# Séparer les mesures en marée basse et marée haute\n",
    "maree_haute = mesures[n//2:]\n",
    "maree_basse = mesures[:n//2]\n",
    "\n",
    "# Trier les listes\n",
    "# maree_haute \n",
    "maree_basse.reverse()\n",
    "\n",
    "# Afficher les résultats\n",
    "print('Mesures de marée basse :', maree_basse)\n",
    "print('Mesures de marée haute :', maree_haute)"
   ]
  },
  {
   "cell_type": "markdown",
   "id": "fbfeb19c",
   "metadata": {
    "slideshow": {
     "slide_type": "slide"
    }
   },
   "source": [
    "## Stratégie pour l'Impression Alternée\n",
    "\n",
    "1. Créer une liste vide `réponse`\n",
    "2. Utiliser une boucle de 0 à (n-1)\n",
    "3. Si l'indice est pair, imprimez un élément de `marée_basse`\n",
    "4. Si l'indice est impair, imprimez un élément de `marée_haute`"
   ]
  },
  {
   "cell_type": "markdown",
   "id": "ecd415b9",
   "metadata": {
    "slideshow": {
     "slide_type": "slide"
    }
   },
   "source": [
    "# Résumé du Problème\n",
    "\n",
    "- Reconstituer l'ordre des mesures : marée basse, marée haute, marée basse, ...\n",
    "- Marée haute > Marée basse, en alternance\n",
    "- Marée haute augmente, marée basse diminue\n",
    "\n",
    "# Résumé des Techniques\n",
    "- **Séparation des données** : Ordonnez les données avec `list.sort()`, puis déterminez à quel type de marée appartient chaque donnée\n",
    "- **Ordre des listes** : Trier les marées en ordre croissant/décroissant avec `list.reverse()`\n",
    "- **Impression alternée** : Imprimez deux listes en alternance avec `if i%2 == 0:` et `else:`"
   ]
  }
 ],
 "metadata": {
  "celltoolbar": "Slideshow",
  "kernelspec": {
   "display_name": "Python 3 (ipykernel)",
   "language": "python",
   "name": "python3"
  },
  "language_info": {
   "codemirror_mode": {
    "name": "ipython",
    "version": 3
   },
   "file_extension": ".py",
   "mimetype": "text/x-python",
   "name": "python",
   "nbconvert_exporter": "python",
   "pygments_lexer": "ipython3",
   "version": "3.11.7"
  }
 },
 "nbformat": 4,
 "nbformat_minor": 5
}
