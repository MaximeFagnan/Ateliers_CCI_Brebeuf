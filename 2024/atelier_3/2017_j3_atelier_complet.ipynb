{
 "cells": [
  {
   "cell_type": "markdown",
   "id": "307568ff",
   "metadata": {},
   "source": [
    "# Réordonner les Mesures de Marée\n",
    "## Atelier de Programmation en Python"
   ]
  },
  {
   "cell_type": "markdown",
   "id": "809c0319",
   "metadata": {},
   "source": [
    "## Énoncé du Problème\n",
    "- Denis Codeur campe à la Baie de Fundy\n",
    "- Mesures de marée haute/basse\n",
    "- Alternance : basse, haute, basse, ...\n",
    "- Marée haute > Marée basse\n",
    "- Marée haute augmente, marée basse diminue"
   ]
  },
  {
   "cell_type": "markdown",
   "id": "48302b03",
   "metadata": {},
   "source": [
    "## Stratégie pour Organiser les Données\n",
    "1. Séparer les mesures : `marée_basse` et `marée_haute`\n",
    "2. Trier `marée_basse` en ordre décroissant\n",
    "3. Trier `marée_haute` en ordre croissant"
   ]
  },
  {
   "cell_type": "code",
   "execution_count": null,
   "id": "62155035",
   "metadata": {},
   "outputs": [],
   "source": [
    "# Exemple d'entrée\n",
    "N = 8\n",
    "mesures = [10, 50, 40, 7, 3, 110, 90, 2]\n",
    "\n",
    "# Séparer les mesures en marée basse et marée haute\n",
    "marée_basse = [x for x in mesures if x < max(mesures)]\n",
    "marée_haute = [x for x in mesures if x >= max(marée_basse)]\n",
    "\n",
    "# Trier les listes\n",
    "marée_basse.sort(reverse=True)\n",
    "marée_haute.sort()\n",
    "\n",
    "# Afficher les résultats\n",
    "print('Mesures de marée basse :', marée_basse)\n",
    "print('Mesures de marée haute :', marée_haute)"
   ]
  },
  {
   "cell_type": "markdown",
   "id": "ebfa2857",
   "metadata": {},
   "source": [
    "## Comment Inverser une Liste en Python\n",
    "\n",
    "Pour inverser une liste, utilisez :\n",
    "1. La méthode `reverse()` :\n",
    "   ```python\n",
    "   ma_liste.reverse()\n",
    "   ```\n",
    "\n",
    "Essayez cette technique sur vos propres listes !"
   ]
  },
  {
   "cell_type": "markdown",
   "id": "fbfeb19c",
   "metadata": {},
   "source": [
    "## Stratégie pour l'Impression Alternée\n",
    "\n",
    "1. Créer une liste vide `réponse`\n",
    "2. Utiliser une boucle de 0 à N-1\n",
    "3. Si l'indice est pair, ajouter un élément de `marée_basse`\n",
    "4. Si l'indice est impair, ajouter un élément de `marée_haute`"
   ]
  },
  {
   "cell_type": "code",
   "execution_count": null,
   "id": "02b35894",
   "metadata": {},
   "outputs": [],
   "source": [
    "# Code complet pour la solution\n",
    "\n",
    "# Exemple d'entrée\n",
    "N = 8\n",
    "mesures = [10, 50, 40, 7, 3, 110, 90, 2]\n",
    "\n",
    "# Séparer les mesures en marée basse et marée haute\n",
    "marée_basse = [x for x in mesures if x < max(mesures)]\n",
    "marée_haute = [x for x in mesures if x >= max(marée_basse)]\n",
    "\n",
    "# Trier les listes\n",
    "marée_basse.sort(reverse=True)\n",
    "marée_haute.sort()\n",
    "\n",
    "# Fusionner les listes pour créer la séquence finale\n",
    "réponse = []\n",
    "for i in range(N):\n",
    "    if i % 2 == 0:\n",
    "        réponse.append(marée_basse[i // 2])\n",
    "    else:\n",
    "        réponse.append(marée_haute[i // 2])\n",
    "\n",
    "# Afficher le résultat\n",
    "print('Séquence reconstituée :', réponse)"
   ]
  },
  {
   "cell_type": "markdown",
   "id": "ecd415b9",
   "metadata": {},
   "source": [
    "# Résumé du Problème\n",
    "\n",
    "- Reconstituer l'ordre des mesures : marée basse, marée haute\n",
    "- Marée haute > Marée basse, en alternance\n",
    "- Marée haute augmente, marée basse diminue\n",
    "\n",
    "# Résumé des Techniques\n",
    "\n",
    "- **Ordre des listes** : Trier en croissant/décroissant\n",
    "- **Inversion** : Utiliser `reverse()`\n",
    "- **Impression alternée** : Fusionner deux listes en alternance"
   ]
  }
 ],
 "metadata": {},
 "nbformat": 4,
 "nbformat_minor": 5
}
