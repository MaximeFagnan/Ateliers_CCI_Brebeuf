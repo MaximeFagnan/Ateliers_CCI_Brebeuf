{
 "cells": [
  {
   "cell_type": "markdown",
   "metadata": {
    "slideshow": {
     "slide_type": "slide"
    }
   },
   "source": [
    "# Happy or Sad\n",
    "## Atelier sur le traitement de texte en Python"
   ]
  },
  {
   "cell_type": "markdown",
   "metadata": {
    "slideshow": {
     "slide_type": "slide"
    }
   },
   "source": [
    "### Énoncé du Problème\n",
    "- Vous devez déterminez l'émotion d'un message basé sur la quantités d'emojis `:-)` et `:-(` dans le message. Voici les réponses possibles.\n",
    "    - happy\n",
    "    - sad\n",
    "    - none\n",
    "    - unsure\n",
    "    \n",
    "**Exemple de données d'entrée:** \\\n",
    "`How are you :-) doing :-( today :-)?`\n",
    "\n",
    "**Exemple de données de sorties:** \\\n",
    "`happy`"
   ]
  },
  {
   "cell_type": "markdown",
   "metadata": {
    "slideshow": {
     "slide_type": "slide"
    }
   },
   "source": [
    "### Traitement de texte dans une boucle"
   ]
  },
  {
   "cell_type": "markdown",
   "metadata": {
    "slideshow": {
     "slide_type": "subslide"
    }
   },
   "source": [
    "**Solution 1 :** Méthode naïve"
   ]
  },
  {
   "cell_type": "code",
   "execution_count": 1,
   "metadata": {
    "slideshow": {
     "slide_type": "fragment"
    }
   },
   "outputs": [
    {
     "name": "stdout",
     "output_type": "stream",
     "text": [
      "happy\n"
     ]
    }
   ],
   "source": [
    "entree = \"How are you :-) doing :-( today :-)?\"\n",
    "\n",
    "happy = 0\n",
    "sad = 0\n",
    "\n",
    "compteur = 0\n",
    "for c in entree:\n",
    "    if compteur == 0 and c == ':':\n",
    "        compteur += 1\n",
    "    elif compteur == 1 and c == '-':\n",
    "        compteur += 1\n",
    "    elif compteur == 2:\n",
    "        if c == ')' :\n",
    "            happy += 1\n",
    "            compteur = 0\n",
    "        elif c == '(':\n",
    "            sad += 1\n",
    "            compteur =0\n",
    "    else: \n",
    "        compteur = 0\n",
    "\n",
    "if happy == 0 and sad == 0:\n",
    "    print(\"none\")\n",
    "elif happy == sad:\n",
    "    print(\"unsure\")\n",
    "elif happy>sad:\n",
    "    print(\"happy\")\n",
    "elif sad>happy:\n",
    "    print(\"sad\")"
   ]
  },
  {
   "cell_type": "markdown",
   "metadata": {
    "slideshow": {
     "slide_type": "subslide"
    }
   },
   "source": [
    "**Solution 2 :** Méthode avancée"
   ]
  },
  {
   "cell_type": "code",
   "execution_count": 2,
   "metadata": {
    "slideshow": {
     "slide_type": "fragment"
    }
   },
   "outputs": [
    {
     "name": "stdout",
     "output_type": "stream",
     "text": [
      "none\n"
     ]
    }
   ],
   "source": [
    "entree = \"No emotion\"\n",
    "\n",
    "happy = 0\n",
    "sad = 0\n",
    "\n",
    "for i in range(len(entree)-2):\n",
    "    substring = entree[i:i+3]\n",
    "    if substring == \":-)\":\n",
    "        happy += 1\n",
    "    elif substring == \":-(\":\n",
    "        sad +=1\n",
    "\n",
    "if happy == 0 and sad == 0:\n",
    "    print(\"none\")\n",
    "elif happy == sad:\n",
    "    print(\"unsure\")\n",
    "elif happy>sad:\n",
    "    print(\"happy\")\n",
    "elif sad>happy:\n",
    "    print(\"sad\")\n",
    "\n"
   ]
  },
  {
   "cell_type": "markdown",
   "metadata": {
    "slideshow": {
     "slide_type": "slide"
    }
   },
   "source": [
    "### Traitement de texte avec des librairies\n",
    "Python standard library: https://docs.python.org/3/library/ \\\n",
    "Pratiquez-vous à utiliser cet outil!"
   ]
  },
  {
   "cell_type": "markdown",
   "metadata": {
    "slideshow": {
     "slide_type": "subslide"
    }
   },
   "source": [
    "**Solution 3 :** En utilisant les fonctions de <code>str</code>"
   ]
  },
  {
   "cell_type": "code",
   "execution_count": 3,
   "metadata": {
    "slideshow": {
     "slide_type": "fragment"
    }
   },
   "outputs": [
    {
     "name": "stdout",
     "output_type": "stream",
     "text": [
      "sad\n"
     ]
    }
   ],
   "source": [
    "entree = \"(I am feeling so sad :-()\"\n",
    "\n",
    "happy = entree.count(\":-)\")\n",
    "sad = entree.count(\":-(\")\n",
    "\n",
    "if happy == 0 and sad == 0:\n",
    "    print(\"none\")\n",
    "elif happy == sad:\n",
    "    print(\"unsure\")\n",
    "elif happy>sad:\n",
    "    print(\"happy\")\n",
    "elif sad>happy:\n",
    "    print(\"sad\")"
   ]
  },
  {
   "cell_type": "markdown",
   "metadata": {
    "slideshow": {
     "slide_type": "subslide"
    }
   },
   "source": [
    "**Solution 4 :** En utilisant les Regex"
   ]
  },
  {
   "cell_type": "code",
   "execution_count": 4,
   "metadata": {
    "slideshow": {
     "slide_type": "fragment"
    }
   },
   "outputs": [
    {
     "name": "stdout",
     "output_type": "stream",
     "text": [
      "unsure\n"
     ]
    }
   ],
   "source": [
    "import re\n",
    "entree = \"Some students are :-) and some students are :-(\"\n",
    "\n",
    "happy = len(re.findall(\":-\\)\", entree))\n",
    "sad = len(re.findall(\":-\\(\", entree))\n",
    "\n",
    "\n",
    "if happy == 0 and sad == 0:\n",
    "    print(\"none\")\n",
    "elif happy == sad:\n",
    "    print(\"unsure\")\n",
    "elif happy>sad:\n",
    "    print(\"happy\")\n",
    "elif sad>happy:\n",
    "    print(\"sad\")"
   ]
  }
 ],
 "metadata": {
  "celltoolbar": "Slideshow",
  "kernelspec": {
   "display_name": "your_env_name",
   "language": "python",
   "name": "your_env_name"
  },
  "language_info": {
   "codemirror_mode": {
    "name": "ipython",
    "version": 3
   },
   "file_extension": ".py",
   "mimetype": "text/x-python",
   "name": "python",
   "nbconvert_exporter": "python",
   "pygments_lexer": "ipython3",
   "version": "3.9.18"
  }
 },
 "nbformat": 4,
 "nbformat_minor": 2
}
